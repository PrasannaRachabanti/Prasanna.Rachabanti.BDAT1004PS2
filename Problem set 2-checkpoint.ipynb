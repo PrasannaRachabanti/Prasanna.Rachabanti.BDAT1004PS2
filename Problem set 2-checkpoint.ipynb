{
 "cells": [
  {
   "cell_type": "markdown",
   "id": "c8b6565c",
   "metadata": {},
   "source": [
    "# Question 1"
   ]
  },
  {
   "cell_type": "markdown",
   "id": "27bb1233",
   "metadata": {},
   "source": [
    "Consider the following Python module:\n",
    "a = 0\n",
    "def b():\n",
    " global a\n",
    " a = c(a)\n",
    "def c(a):\n",
    " return a + 2\n",
    "After importing the module into the interpreter, you execute:\n",
    ">>> b()\n",
    ">>> b()\n",
    ">>> b()\n",
    ">>> a\n",
    "?\n",
    "What value is displayed when the last expression (a) is evaluated? Explain your\n",
    "answer by indicating what happens in every executed statement."
   ]
  },
  {
   "cell_type": "code",
   "execution_count": 8,
   "id": "2ce2ed1e",
   "metadata": {},
   "outputs": [],
   "source": [
    "a = 0\n",
    "def b():\n",
    " global a\n",
    " a = c(a)\n",
    "def c(a):\n",
    " return a + 2"
   ]
  },
  {
   "cell_type": "code",
   "execution_count": 9,
   "id": "3026ad24",
   "metadata": {},
   "outputs": [
    {
     "data": {
      "text/plain": [
       "6"
      ]
     },
     "execution_count": 9,
     "metadata": {},
     "output_type": "execute_result"
    }
   ],
   "source": [
    "b()\n",
    "b()\n",
    "b()\n",
    "a"
   ]
  },
  {
   "cell_type": "markdown",
   "id": "0857d76c",
   "metadata": {},
   "source": [
    "Explanation:\n",
    "    1. b(): This step calls the function c(a)--> c(0) and the value of a is 2 i.e a=0+2 --> a=2\n",
    "    2. b(): This step again calls c(a)--> c(2) which changes the value of a to i.e a=c(2)--> 2+2=4--> a=4\n",
    "    3. b(): This step invokes c(a) --> c(4) and the value of a becomes 6 i.e a=c(4) --> 4+2 --> a=6\n",
    "    4. a  : This step prints the value of a which equals to 6."
   ]
  },
  {
   "cell_type": "markdown",
   "id": "8390228d",
   "metadata": {},
   "source": [
    "# Question 2"
   ]
  },
  {
   "cell_type": "markdown",
   "id": "ed307ab6",
   "metadata": {},
   "source": [
    "Function fileLength(), given to you, takes the name of a file as input and returns\n",
    "the length of the file:\n",
    ">>> fileLength('midterm.py')\n",
    "284\n",
    ">>> fileLength('idterm.py')\n",
    "Traceback (most recent call last):\n",
    "File \"<pyshell#34>\", line 1, in <module>\n",
    " fileLength('idterm.py')\n",
    "File \"/Users/me/midterm.py\", line 3, in fileLength\n",
    " infile = open(filename)\n",
    "FileNotFoundError: [Errno 2] No such file or directory:\n",
    "'idterm.py'\n",
    "As shown above, if the file cannot be found by the interpreter or if it cannot be read\n",
    "as a text file, an exception will be raised. Modify function fileLength() so that a\n",
    "friendly message is printed instead:\n",
    ">>> fileLength('midterm.py')\n",
    "358\n",
    ">>> fileLength('idterm.py')\n",
    "File idterm.py not found.\n"
   ]
  },
  {
   "cell_type": "code",
   "execution_count": 8,
   "id": "fae86192",
   "metadata": {},
   "outputs": [],
   "source": [
    "def fileLength(file_name):\n",
    "    try:\n",
    "        file = open(file_name)\n",
    "        contents = file.read()\n",
    "        file.close()\n",
    "        print(len(contents))\n",
    "    except:\n",
    "        print(\"File \"+str(file_name)+\"not found\")\n",
    "        "
   ]
  },
  {
   "cell_type": "code",
   "execution_count": 9,
   "id": "c6638816",
   "metadata": {},
   "outputs": [
    {
     "name": "stdout",
     "output_type": "stream",
     "text": [
      "File idterm.pynot found\n"
     ]
    }
   ],
   "source": [
    "fileLength('idterm.py')"
   ]
  },
  {
   "cell_type": "markdown",
   "id": "d07ad4ae",
   "metadata": {},
   "source": [
    "# Question 3"
   ]
  },
  {
   "cell_type": "markdown",
   "id": "6c31fb90",
   "metadata": {},
   "source": [
    "\n",
    "Write a class named Marsupial that can be used as shown below:\n",
    ">>> m = Marsupial()\n",
    ">>> m.put_in_pouch('doll')\n",
    ">>> m.put_in_pouch('firetruck')\n",
    ">>> m.put_in_pouch('kitten')\n",
    ">>> m.pouch_contents()\n",
    "['doll', 'firetruck', 'kitten']\n",
    "\n",
    "Now write a class named Kangaroo as a subclass of Marsupial that inherits all the\n",
    "attributes of Marsupial and also:\n",
    "a. extends the Marsupial __init__ constructor to take, as input, the\n",
    "coordinates x and y of the Kangaroo object,\n",
    "b. supports method jump that takes number values dx and dy as input and\n",
    "moves the kangaroo by dx units along the x-axis and by dy units along the yaxis, and\n",
    "c. overloads the __str__ operator so it behaves as shown below.\n",
    "\n",
    ">>> k = Kangaroo(0,0)\n",
    ">>> print(k)\n",
    "I am a Kangaroo located at coordinates (0,0)\n",
    ">>> k.put_in_pouch('doll')\n",
    ">>> k.put_in_pouch('firetruck')\n",
    ">>> k.put_in_pouch('kitten')\n",
    ">>> k.pouch_contents()\n",
    "['doll', 'firetruck', 'kitten']\n",
    ">>> k.jump(1,0)\n",
    ">>> k.jump(1,0)\n",
    ">>> k.jump(1,0)\n",
    ">>> print(k)\n",
    "I am a Kangaroo located at coordinates (3,0)"
   ]
  },
  {
   "cell_type": "code",
   "execution_count": 155,
   "id": "41d5f5e9",
   "metadata": {},
   "outputs": [],
   "source": [
    "class Marsupial:\n",
    "    l=[]    \n",
    "    def put_in_pouch(self,x):\n",
    "        self.l.append(x)\n",
    "    def pouch_contents(self):\n",
    "        return self.l     \n",
    "           \n"
   ]
  },
  {
   "cell_type": "code",
   "execution_count": 138,
   "id": "9a655e69",
   "metadata": {},
   "outputs": [
    {
     "data": {
      "text/plain": [
       "['doll', 'firetruck', 'kitten']"
      ]
     },
     "execution_count": 138,
     "metadata": {},
     "output_type": "execute_result"
    }
   ],
   "source": [
    "m = Marsupial()\n",
    "m.put_in_pouch('doll')\n",
    "m.put_in_pouch('firetruck')\n",
    "m.put_in_pouch('kitten')\n",
    "m.pouch_contents()\n"
   ]
  },
  {
   "cell_type": "code",
   "execution_count": 156,
   "id": "a152e2ea",
   "metadata": {},
   "outputs": [],
   "source": [
    "class Kangaroo(Marsupial):\n",
    "    cx=0\n",
    "    cy=0\n",
    "    def __init__(self,x,y):\n",
    "        self.x=x\n",
    "        self.y=y\n",
    "    def put_in_pouch(self,x):\n",
    "        self.l.append(x)\n",
    "    def jump(self,dx,dy):\n",
    "        self.cx+=dx\n",
    "        self.cy+=dy\n",
    "    def __str__(self):\n",
    "        return \"I am a Kangaroo located at coordinates (\" + str(self.cx) + \",\" + str(self.cy) + \")\"\n",
    "        \n",
    "    "
   ]
  },
  {
   "cell_type": "code",
   "execution_count": 157,
   "id": "2caa8d06",
   "metadata": {},
   "outputs": [
    {
     "data": {
      "text/plain": [
       "['doll', 'firetruck', 'kitten']"
      ]
     },
     "execution_count": 157,
     "metadata": {},
     "output_type": "execute_result"
    }
   ],
   "source": [
    "k = Kangaroo(0,0)\n",
    "k.put_in_pouch('doll')\n",
    "k.put_in_pouch('firetruck')\n",
    "k.put_in_pouch('kitten')\n",
    "k.pouch_contents()\n"
   ]
  },
  {
   "cell_type": "code",
   "execution_count": 150,
   "id": "16dae0f0",
   "metadata": {},
   "outputs": [
    {
     "name": "stdout",
     "output_type": "stream",
     "text": [
      "I am a Kangaroo located at coordinates (3,0)\n"
     ]
    }
   ],
   "source": [
    "k.jump(1,0)\n",
    "k.jump(1,0)\n",
    "k.jump(1,0)\n",
    "print(k)"
   ]
  },
  {
   "cell_type": "markdown",
   "id": "e3cc39e1",
   "metadata": {},
   "source": [
    "# Question 4"
   ]
  },
  {
   "cell_type": "markdown",
   "id": "843e59fc",
   "metadata": {},
   "source": [
    "Write function collatz() that takes a positive integer x as input and prints the\n",
    "Collatz sequence starting at x. A Collatz sequence is obtained by repeatedly applying\n",
    "this rule to the previous number x in the sequence:\n",
    "x = {\n",
    "𝑥/2 𝑖𝑓 𝑥 𝑖𝑠 𝑒𝑣𝑒𝑛\n",
    "3𝑥 + 1 𝑖𝑓 𝑥 𝑖𝑠 𝑜𝑑𝑑\n",
    "Your function should stop when the sequence gets to number 1. Your\n",
    "implementation must be recursive, without any loops.\n",
    ">>> collatz(1)\n",
    "1\n",
    ">>> collatz(10)\n",
    "10\n",
    "5\n",
    "16\n",
    "8\n",
    "4\n",
    "2\n",
    "1"
   ]
  },
  {
   "cell_type": "code",
   "execution_count": 180,
   "id": "937c4a1a",
   "metadata": {},
   "outputs": [],
   "source": [
    "def collatz(x):\n",
    "    if x==1:\n",
    "        return 1\n",
    "    else:\n",
    "        print(x)\n",
    "        if x%2==0:\n",
    "            return collatz(x//2)\n",
    "        else: \n",
    "            return collatz(3*x+1)"
   ]
  },
  {
   "cell_type": "code",
   "execution_count": 174,
   "id": "726e2d3e",
   "metadata": {},
   "outputs": [
    {
     "data": {
      "text/plain": [
       "1"
      ]
     },
     "execution_count": 174,
     "metadata": {},
     "output_type": "execute_result"
    }
   ],
   "source": [
    "collatz(1)"
   ]
  },
  {
   "cell_type": "code",
   "execution_count": 181,
   "id": "7e9b9d56",
   "metadata": {},
   "outputs": [
    {
     "name": "stdout",
     "output_type": "stream",
     "text": [
      "10\n",
      "5\n",
      "16\n",
      "8\n",
      "4\n",
      "2\n"
     ]
    },
    {
     "data": {
      "text/plain": [
       "1"
      ]
     },
     "execution_count": 181,
     "metadata": {},
     "output_type": "execute_result"
    }
   ],
   "source": [
    "collatz(10)"
   ]
  },
  {
   "cell_type": "markdown",
   "id": "c9e3325a",
   "metadata": {},
   "source": [
    "\n",
    "\n"
   ]
  },
  {
   "cell_type": "markdown",
   "id": "647dd6a8",
   "metadata": {},
   "source": [
    "# Question 5"
   ]
  },
  {
   "cell_type": "markdown",
   "id": "048fd079",
   "metadata": {},
   "source": [
    "Write a recursive method binary() that takes a non-negative\n",
    "integer n and prints the binary representation of integer n.\n",
    ">>> binary(0)\n",
    "0\n",
    ">>> binary(1)\n",
    "1\n",
    ">>> binary(3)\n",
    "11\n",
    ">>> binary(9)\n",
    "1001"
   ]
  },
  {
   "cell_type": "code",
   "execution_count": 203,
   "id": "b448acbe",
   "metadata": {},
   "outputs": [],
   "source": [
    "def binary(n):\n",
    "    if n==0:\n",
    "        return 0\n",
    "    else:\n",
    "        binary(n//2)\n",
    "        print(n%2,end='')\n",
    "            "
   ]
  },
  {
   "cell_type": "code",
   "execution_count": 183,
   "id": "d6205fb7",
   "metadata": {},
   "outputs": [
    {
     "data": {
      "text/plain": [
       "0"
      ]
     },
     "execution_count": 183,
     "metadata": {},
     "output_type": "execute_result"
    }
   ],
   "source": [
    "binary(0)"
   ]
  },
  {
   "cell_type": "code",
   "execution_count": 204,
   "id": "0ee07615",
   "metadata": {},
   "outputs": [
    {
     "name": "stdout",
     "output_type": "stream",
     "text": [
      "11"
     ]
    }
   ],
   "source": [
    "binary(3)"
   ]
  },
  {
   "cell_type": "code",
   "execution_count": 205,
   "id": "fad59f27",
   "metadata": {},
   "outputs": [
    {
     "name": "stdout",
     "output_type": "stream",
     "text": [
      "1001"
     ]
    }
   ],
   "source": [
    "binary(9)"
   ]
  },
  {
   "cell_type": "markdown",
   "id": "f471984b",
   "metadata": {},
   "source": [
    "# Question 6"
   ]
  },
  {
   "cell_type": "markdown",
   "id": "3ee9d8a2",
   "metadata": {},
   "source": [
    "Implement a class named HeadingParser that can be used to parse an HTML\n",
    "document, and retrieve and print all the headings in the document. You should\n",
    "implement your class as a subclass of HTMLParser, defined in Standard Library\n",
    "module html.parser. When fed a string containing HTML code, your class should\n",
    "print the headings, one per line and in the order in which they appear in the\n",
    "document. Each heading should be indented as follows: an h1 heading should have\n",
    "indentation 0, and h2 heading should have indentation 1, etc. Test your\n",
    "implementation using w3c.html.\n",
    ">>> infile = open('w3c.html')\n",
    ">>> content = infile.read()\n",
    ">>> infile.close()\n",
    ">>> hp = HeadingParser()\n",
    ">>> hp.feed(content)\n",
    "W3C Mission\n",
    "Principles\n"
   ]
  },
  {
   "cell_type": "code",
   "execution_count": 25,
   "id": "0396657c",
   "metadata": {},
   "outputs": [],
   "source": [
    "from html.parser import HTMLParser\n",
    "store=[]\n",
    "class HeadingParser(HTMLParser):\n",
    "    global store\n",
    "    def handle_starttag(self, tag, attrs):\n",
    "        store.append(tag)\n",
    "    def handle_data(self, data):\n",
    "        store.append(data)        \n",
    "    def handle_endtag(self,tag):\n",
    "        if(tag==\"html\"):\n",
    "            for val in store:\n",
    "                for tagno in ('h1','h2','h3','h4','h5','h6'):\n",
    "                    if(val==tagno):\n",
    "                        ind=store.index(tagno)\n",
    "                        print(store[ind+1],end=\"\\n\\t\")\n",
    "       "
   ]
  },
  {
   "cell_type": "code",
   "execution_count": 26,
   "id": "c36d45a4",
   "metadata": {},
   "outputs": [
    {
     "name": "stdout",
     "output_type": "stream",
     "text": [
      "W3C Mission\n",
      "\tPrinciples\n",
      "\t"
     ]
    }
   ],
   "source": [
    "infile = open(\"C:\\\\Users\\\\rpras\\\\Desktop\\\\w3c.html\")\n",
    "content = infile.read()\n",
    "infile.close()\n",
    "hp = HeadingParser()\n",
    "hp.feed(content)"
   ]
  },
  {
   "cell_type": "markdown",
   "id": "0bc2bbff",
   "metadata": {},
   "source": [
    "***Installing ipython-sql for running sql queries"
   ]
  },
  {
   "cell_type": "code",
   "execution_count": 260,
   "id": "f4f3408b",
   "metadata": {
    "scrolled": true
   },
   "outputs": [
    {
     "name": "stdout",
     "output_type": "stream",
     "text": [
      "Collecting ipython-sql\n",
      "  Downloading ipython_sql-0.4.0-py3-none-any.whl (19 kB)\n",
      "Collecting prettytable<1\n",
      "  Downloading prettytable-0.7.2.zip (28 kB)\n",
      "Requirement already satisfied: ipython>=1.0 in c:\\users\\rpras\\anaconda3\\lib\\site-packages (from ipython-sql) (7.22.0)\n",
      "Requirement already satisfied: six in c:\\users\\rpras\\anaconda3\\lib\\site-packages (from ipython-sql) (1.15.0)\n",
      "Requirement already satisfied: ipython-genutils>=0.1.0 in c:\\users\\rpras\\anaconda3\\lib\\site-packages (from ipython-sql) (0.2.0)\n",
      "Requirement already satisfied: sqlalchemy>=0.6.7 in c:\\users\\rpras\\anaconda3\\lib\\site-packages (from ipython-sql) (1.4.7)\n",
      "Collecting sqlparse\n",
      "  Downloading sqlparse-0.4.2-py3-none-any.whl (42 kB)\n",
      "Requirement already satisfied: pickleshare in c:\\users\\rpras\\anaconda3\\lib\\site-packages (from ipython>=1.0->ipython-sql) (0.7.5)\n",
      "Requirement already satisfied: backcall in c:\\users\\rpras\\anaconda3\\lib\\site-packages (from ipython>=1.0->ipython-sql) (0.2.0)\n",
      "Requirement already satisfied: setuptools>=18.5 in c:\\users\\rpras\\anaconda3\\lib\\site-packages (from ipython>=1.0->ipython-sql) (52.0.0.post20210125)\n",
      "Requirement already satisfied: decorator in c:\\users\\rpras\\anaconda3\\lib\\site-packages (from ipython>=1.0->ipython-sql) (5.0.6)\n",
      "Requirement already satisfied: colorama in c:\\users\\rpras\\anaconda3\\lib\\site-packages (from ipython>=1.0->ipython-sql) (0.4.4)\n",
      "Requirement already satisfied: prompt-toolkit!=3.0.0,!=3.0.1,<3.1.0,>=2.0.0 in c:\\users\\rpras\\anaconda3\\lib\\site-packages (from ipython>=1.0->ipython-sql) (3.0.17)\n",
      "Requirement already satisfied: traitlets>=4.2 in c:\\users\\rpras\\anaconda3\\lib\\site-packages (from ipython>=1.0->ipython-sql) (5.0.5)\n",
      "Requirement already satisfied: jedi>=0.16 in c:\\users\\rpras\\anaconda3\\lib\\site-packages (from ipython>=1.0->ipython-sql) (0.17.2)\n",
      "Requirement already satisfied: pygments in c:\\users\\rpras\\anaconda3\\lib\\site-packages (from ipython>=1.0->ipython-sql) (2.8.1)\n",
      "Requirement already satisfied: parso<0.8.0,>=0.7.0 in c:\\users\\rpras\\anaconda3\\lib\\site-packages (from jedi>=0.16->ipython>=1.0->ipython-sql) (0.7.0)\n",
      "Requirement already satisfied: wcwidth in c:\\users\\rpras\\anaconda3\\lib\\site-packages (from prompt-toolkit!=3.0.0,!=3.0.1,<3.1.0,>=2.0.0->ipython>=1.0->ipython-sql) (0.2.5)\n",
      "Requirement already satisfied: greenlet!=0.4.17 in c:\\users\\rpras\\anaconda3\\lib\\site-packages (from sqlalchemy>=0.6.7->ipython-sql) (1.0.0)\n",
      "Building wheels for collected packages: prettytable\n",
      "  Building wheel for prettytable (setup.py): started\n",
      "  Building wheel for prettytable (setup.py): finished with status 'done'\n",
      "  Created wheel for prettytable: filename=prettytable-0.7.2-py3-none-any.whl size=13699 sha256=327123aa0780329af9be727946536bd1bc834900adb84b526f5e84b6658c75b6\n",
      "  Stored in directory: c:\\users\\rpras\\appdata\\local\\pip\\cache\\wheels\\48\\6d\\77\\9517cb933af254f51a446f1a5ec9c2be3e45f17384940bce68\n",
      "Successfully built prettytable\n",
      "Installing collected packages: sqlparse, prettytable, ipython-sql\n",
      "Successfully installed ipython-sql-0.4.0 prettytable-0.7.2 sqlparse-0.4.2\n"
     ]
    }
   ],
   "source": [
    " !pip install ipython-sql"
   ]
  },
  {
   "cell_type": "markdown",
   "id": "592e0989",
   "metadata": {},
   "source": [
    "# Question 8\n"
   ]
  },
  {
   "cell_type": "markdown",
   "id": "86e9a03e",
   "metadata": {},
   "source": [
    "Write SQL queries on the below database table that return: "
   ]
  },
  {
   "cell_type": "markdown",
   "id": "2bd5f86a",
   "metadata": {},
   "source": [
    " City               Country                   Season                         Temperature(C)                 Rainfall(mm)\n",
    "Mumbai               India                    Winter                              24.8                         5.9\n",
    "Mumbai               India                    Spring                              28.4                         16.2\n",
    "Mumbai               India                    Summer                              27.9                        1549.4\n",
    "Mumbai               India                     Fall                               27.6                         346.0\n",
    "London             United Kingdom             Winter                               4.2                         207.7\n",
    "London             United Kingdom             Spring                               8.3                         169.6\n",
    "London             United Kingdom             Summer                               15.7                        157.0\n",
    "London             United Kingdom              Fall                                10.4                        218.5\n",
    "Cairo                 Egypt                   Winter                               13.6                         16.5\n",
    "Cairo                 Egypt                   Spring                               20.7                         6.5\n",
    "Cairo                 Egypt                   Summer                               27.7                         0.1\n",
    "Cairo                 Egypt                    Fall                                22.2                         4.5 "
   ]
  },
  {
   "cell_type": "code",
   "execution_count": 337,
   "id": "95c43338",
   "metadata": {},
   "outputs": [],
   "source": [
    "import sqlite3\n",
    "con = sqlite3.connect('p2.db')\n",
    "cur = con.cursor()"
   ]
  },
  {
   "cell_type": "markdown",
   "id": "8b1a7fc7",
   "metadata": {},
   "source": [
    "***Creating a table 'Weather'"
   ]
  },
  {
   "cell_type": "code",
   "execution_count": 331,
   "id": "9b28b317",
   "metadata": {
    "scrolled": true
   },
   "outputs": [
    {
     "data": {
      "text/plain": [
       "<sqlite3.Cursor at 0x1c55ed1f340>"
      ]
     },
     "execution_count": 331,
     "metadata": {},
     "output_type": "execute_result"
    }
   ],
   "source": [
    "cur.execute(\"CREATE TABLE Weather (City text, Country text, Season text, Temperature float, Rainfall float)\")"
   ]
  },
  {
   "cell_type": "markdown",
   "id": "5a06cd3f",
   "metadata": {},
   "source": [
    "***Inserting values into the table"
   ]
  },
  {
   "cell_type": "code",
   "execution_count": 332,
   "id": "a0ea9af4",
   "metadata": {},
   "outputs": [
    {
     "data": {
      "text/plain": [
       "<sqlite3.Cursor at 0x1c55ed1f340>"
      ]
     },
     "execution_count": 332,
     "metadata": {},
     "output_type": "execute_result"
    }
   ],
   "source": [
    "r=('Mumbai','India','Winter',24.8,5.9)\n",
    "cur.execute(\"INSERT INTO Weather VALUES(?,?,?,?,?)\",r)"
   ]
  },
  {
   "cell_type": "code",
   "execution_count": 333,
   "id": "711c2d92",
   "metadata": {},
   "outputs": [
    {
     "data": {
      "text/plain": [
       "<sqlite3.Cursor at 0x1c55ed1f340>"
      ]
     },
     "execution_count": 333,
     "metadata": {},
     "output_type": "execute_result"
    }
   ],
   "source": [
    "r=('Mumbai','India','Spring',28.4,16.2)\n",
    "cur.execute(\"INSERT INTO Weather  VALUES(?,?,?,?,?)\",r)\n",
    "r=('Mumbai','India', 'Summer', 27.9 ,1549.4)\n",
    "cur.execute(\"INSERT INTO Weather  VALUES(?,?,?,?,?)\",r)\n",
    "r=('Mumbai','India','Fall', 27.6, 346.0)\n",
    "cur.execute(\"INSERT INTO Weather  VALUES(?,?,?,?,?)\",r)\n",
    "r=('London' ,'United Kingdom', 'Winter', 4.2 ,207.7)\n",
    "cur.execute(\"INSERT INTO Weather  VALUES(?,?,?,?,?)\",r)\n",
    "r=('London' ,'United Kingdom','Spring',8.3 ,169.6)\n",
    "cur.execute(\"INSERT INTO Weather  VALUES(?,?,?,?,?)\",r)\n",
    "r=('London' ,'United Kingdom', 'Summer', 15.7 ,157.0)\n",
    "cur.execute(\"INSERT INTO Weather  VALUES(?,?,?,?,?)\",r)\n",
    "r=('London' ,'United Kingdom','Fall',10.4 ,218.5)\n",
    "cur.execute(\"INSERT INTO Weather  VALUES(?,?,?,?,?)\",r)\n",
    "r=('Cairo', 'Egypt' ,'Winter' , 13.6 ,16.5)\n",
    "cur.execute(\"INSERT INTO Weather  VALUES(?,?,?,?,?)\",r)\n",
    "r=('Cairo', 'Egypt' ,'Spring' , 20.7 ,6.5)\n",
    "cur.execute(\"INSERT INTO Weather  VALUES(?,?,?,?,?)\",r)\n",
    "r=('Cairo', 'Egypt' ,'Summer' , 27.7 ,0.1)\n",
    "cur.execute(\"INSERT INTO Weather  VALUES(?,?,?,?,?)\",r)\n",
    "r=('Cairo', 'Egypt' ,'Fall' ,22.2 ,4.5)\n",
    "cur.execute(\"INSERT INTO Weather  VALUES(?,?,?,?,?)\",r)"
   ]
  },
  {
   "cell_type": "code",
   "execution_count": null,
   "id": "195db297",
   "metadata": {},
   "outputs": [],
   "source": [
    "con.commit()\n",
    "con.close()"
   ]
  },
  {
   "cell_type": "code",
   "execution_count": 338,
   "id": "54c3ec6d",
   "metadata": {},
   "outputs": [
    {
     "data": {
      "text/plain": [
       "[('Mumbai', 'India', 'Winter', 24.8, 5.9),\n",
       " ('Mumbai', 'India', 'Spring', 28.4, 16.2),\n",
       " ('Mumbai', 'India', 'Summer', 27.9, 1549.4),\n",
       " ('Mumbai', 'India', 'Fall', 27.6, 346.0),\n",
       " ('London', 'United Kingdom', 'Winter', 4.2, 207.7),\n",
       " ('London', 'United Kingdom', 'Spring', 8.3, 169.6),\n",
       " ('London', 'United Kingdom', 'Summer', 15.7, 157.0),\n",
       " ('London', 'United Kingdom', 'Fall', 10.4, 218.5),\n",
       " ('Cairo', 'Egypt', 'Winter', 13.6, 16.5),\n",
       " ('Cairo', 'Egypt', 'Spring', 20.7, 6.5),\n",
       " ('Cairo', 'Egypt', 'Summer', 27.7, 0.1),\n",
       " ('Cairo', 'Egypt', 'Fall', 22.2, 4.5)]"
      ]
     },
     "execution_count": 338,
     "metadata": {},
     "output_type": "execute_result"
    }
   ],
   "source": [
    "con = sqlite3.connect('p2.db')\n",
    "cur = con.cursor()\n",
    "cur.execute('SELECT * FROM Weather')\n",
    "cur.fetchall()\n"
   ]
  },
  {
   "cell_type": "markdown",
   "id": "fabbefaa",
   "metadata": {},
   "source": [
    "a) All the temperature data."
   ]
  },
  {
   "cell_type": "code",
   "execution_count": 349,
   "id": "0f528cd7",
   "metadata": {},
   "outputs": [
    {
     "data": {
      "text/plain": [
       "[(24.8,),\n",
       " (28.4,),\n",
       " (27.9,),\n",
       " (27.6,),\n",
       " (4.2,),\n",
       " (8.3,),\n",
       " (15.7,),\n",
       " (10.4,),\n",
       " (13.6,),\n",
       " (20.7,),\n",
       " (27.7,),\n",
       " (22.2,)]"
      ]
     },
     "execution_count": 349,
     "metadata": {},
     "output_type": "execute_result"
    }
   ],
   "source": [
    "cur.execute('SELECT Temperature FROM Weather')\n",
    "cur.fetchall()"
   ]
  },
  {
   "cell_type": "markdown",
   "id": "1292e6f4",
   "metadata": {},
   "source": [
    "b) All the cities, but without repetition."
   ]
  },
  {
   "cell_type": "code",
   "execution_count": 340,
   "id": "81765d52",
   "metadata": {},
   "outputs": [
    {
     "data": {
      "text/plain": [
       "[('Mumbai',), ('London',), ('Cairo',)]"
      ]
     },
     "execution_count": 340,
     "metadata": {},
     "output_type": "execute_result"
    }
   ],
   "source": [
    "cur.execute('SELECT DISTINCT City FROM Weather')\n",
    "cur.fetchall()"
   ]
  },
  {
   "cell_type": "markdown",
   "id": "45867a62",
   "metadata": {},
   "source": [
    "c) All the records for India."
   ]
  },
  {
   "cell_type": "code",
   "execution_count": 341,
   "id": "5c1a3ef9",
   "metadata": {},
   "outputs": [
    {
     "data": {
      "text/plain": [
       "[('Mumbai', 'India', 'Winter', 24.8, 5.9),\n",
       " ('Mumbai', 'India', 'Spring', 28.4, 16.2),\n",
       " ('Mumbai', 'India', 'Summer', 27.9, 1549.4),\n",
       " ('Mumbai', 'India', 'Fall', 27.6, 346.0)]"
      ]
     },
     "execution_count": 341,
     "metadata": {},
     "output_type": "execute_result"
    }
   ],
   "source": [
    "cur.execute(\"SELECT *  FROM Weather WHERE Country = 'India'\")\n",
    "cur.fetchall()"
   ]
  },
  {
   "cell_type": "markdown",
   "id": "059ecd9c",
   "metadata": {},
   "source": [
    "d) All the Fall records."
   ]
  },
  {
   "cell_type": "code",
   "execution_count": null,
   "id": "841b2366",
   "metadata": {},
   "outputs": [],
   "source": [
    "cur.execute(\"SELECT *  FROM Weather WHERE Season = 'Fall'\")\n",
    "cur.fetchall()"
   ]
  },
  {
   "cell_type": "markdown",
   "id": "27f3f56b",
   "metadata": {},
   "source": [
    "e) The city, country, and season for which the average rainfall is between 200\n",
    "and 400 millimeters."
   ]
  },
  {
   "cell_type": "code",
   "execution_count": 342,
   "id": "36d74163",
   "metadata": {},
   "outputs": [
    {
     "data": {
      "text/plain": [
       "[('Mumbai', 'India', 'Fall'),\n",
       " ('London', 'United Kingdom', 'Winter'),\n",
       " ('London', 'United Kingdom', 'Fall')]"
      ]
     },
     "execution_count": 342,
     "metadata": {},
     "output_type": "execute_result"
    }
   ],
   "source": [
    "cur.execute(\"SELECT City,Country,Season FROM Weather WHERE Rainfall BETWEEN 200 AND 400\")\n",
    "cur.fetchall()"
   ]
  },
  {
   "cell_type": "markdown",
   "id": "a713395f",
   "metadata": {},
   "source": [
    "f) The city and country for which the average Fall temperature is above 20 degrees, in increasing temperature order."
   ]
  },
  {
   "cell_type": "code",
   "execution_count": 344,
   "id": "5f1f01d8",
   "metadata": {},
   "outputs": [
    {
     "data": {
      "text/plain": [
       "[('Cairo', 'Egypt'), ('Mumbai', 'India')]"
      ]
     },
     "execution_count": 344,
     "metadata": {},
     "output_type": "execute_result"
    }
   ],
   "source": [
    "cur.execute(\"SELECT DISTINCT City,Country FROM Weather WHERE Temperature> 20 ORDER BY Temperature ASC\")\n",
    "cur.fetchall()"
   ]
  },
  {
   "cell_type": "code",
   "execution_count": 347,
   "id": "bb2fdae2",
   "metadata": {},
   "outputs": [
    {
     "data": {
      "text/plain": [
       "[('Cairo', 'Egypt'),\n",
       " ('Cairo', 'Egypt'),\n",
       " ('Mumbai', 'India'),\n",
       " ('Mumbai', 'India'),\n",
       " ('Cairo', 'Egypt'),\n",
       " ('Mumbai', 'India'),\n",
       " ('Mumbai', 'India')]"
      ]
     },
     "execution_count": 347,
     "metadata": {},
     "output_type": "execute_result"
    }
   ],
   "source": [
    "cur.execute(\"SELECT City,Country FROM Weather WHERE Temperature> 20 ORDER BY Temperature ASC\")\n",
    "cur.fetchall()"
   ]
  },
  {
   "cell_type": "markdown",
   "id": "b789ebd1",
   "metadata": {},
   "source": [
    "g) The total annual rainfall for Cairo."
   ]
  },
  {
   "cell_type": "code",
   "execution_count": 345,
   "id": "051c31a3",
   "metadata": {},
   "outputs": [
    {
     "data": {
      "text/plain": [
       "[(27.6,)]"
      ]
     },
     "execution_count": 345,
     "metadata": {},
     "output_type": "execute_result"
    }
   ],
   "source": [
    "cur.execute(\"SELECT SUM(Rainfall) FROM Weather WHERE City='Cairo'\")\n",
    "cur.fetchall()"
   ]
  },
  {
   "cell_type": "markdown",
   "id": "ed245731",
   "metadata": {},
   "source": [
    "h) The total rainfall for each season."
   ]
  },
  {
   "cell_type": "code",
   "execution_count": 346,
   "id": "75d4b510",
   "metadata": {},
   "outputs": [
    {
     "data": {
      "text/plain": [
       "[(569.0,), (192.29999999999998,), (1706.5,), (230.1,)]"
      ]
     },
     "execution_count": 346,
     "metadata": {},
     "output_type": "execute_result"
    }
   ],
   "source": [
    "cur.execute(\"SELECT SUM(Rainfall) FROM Weather GROUP BY Season\")\n",
    "cur.fetchall()"
   ]
  },
  {
   "cell_type": "markdown",
   "id": "c66cb2d5",
   "metadata": {},
   "source": [
    "# Question 9"
   ]
  },
  {
   "cell_type": "markdown",
   "id": "1eb0a393",
   "metadata": {},
   "source": [
    ">>> words = ['The', 'quick', 'brown', 'fox', 'jumps', 'over',\n",
    "'the', 'lazy', 'dog']"
   ]
  },
  {
   "cell_type": "markdown",
   "id": "fa4d35fc",
   "metadata": {},
   "source": [
    "Write list comprehension expressions that use list words and generate the following\n",
    "lists:"
   ]
  },
  {
   "cell_type": "code",
   "execution_count": 213,
   "id": "1e2139b9",
   "metadata": {},
   "outputs": [],
   "source": [
    "words = ['The', 'quick', 'brown', 'fox', 'jumps', 'over','the', 'lazy', 'dog']"
   ]
  },
  {
   "cell_type": "markdown",
   "id": "f41472a5",
   "metadata": {},
   "source": [
    "a) Making all the words to upper case"
   ]
  },
  {
   "cell_type": "code",
   "execution_count": 255,
   "id": "bb59759b",
   "metadata": {},
   "outputs": [
    {
     "data": {
      "text/plain": [
       "['THE', 'QUICK', 'BROWN', 'FOX', 'JUMPS', 'OVER', 'THE', 'LAZY', 'DOG']"
      ]
     },
     "execution_count": 255,
     "metadata": {},
     "output_type": "execute_result"
    }
   ],
   "source": [
    "a=[x.upper() for x in words]\n",
    "a"
   ]
  },
  {
   "cell_type": "markdown",
   "id": "7fd39bcf",
   "metadata": {},
   "source": [
    "b ) Making all the words to lower case"
   ]
  },
  {
   "cell_type": "code",
   "execution_count": 256,
   "id": "4b508f9c",
   "metadata": {},
   "outputs": [
    {
     "data": {
      "text/plain": [
       "['the', 'quick', 'brown', 'fox', 'jumps', 'over', 'the', 'lazy', 'dog']"
      ]
     },
     "execution_count": 256,
     "metadata": {},
     "output_type": "execute_result"
    }
   ],
   "source": [
    "b=[x.lower() for x in words]\n",
    "b"
   ]
  },
  {
   "cell_type": "markdown",
   "id": "d0c97ac9",
   "metadata": {},
   "source": [
    "c ) the list of lengths of words in list\n",
    "words"
   ]
  },
  {
   "cell_type": "code",
   "execution_count": 257,
   "id": "d50b5676",
   "metadata": {},
   "outputs": [
    {
     "data": {
      "text/plain": [
       "[3, 5, 5, 3, 5, 4, 3, 4, 3]"
      ]
     },
     "execution_count": 257,
     "metadata": {},
     "output_type": "execute_result"
    }
   ],
   "source": [
    "c=[len(x) for x in words]\n",
    "c"
   ]
  },
  {
   "cell_type": "markdown",
   "id": "5db3afe9",
   "metadata": {},
   "source": [
    "d ) the list containing a list for every word of list\n",
    "words, where each list contains the word in uppercase and lowercase and the\n",
    "length of the word."
   ]
  },
  {
   "cell_type": "code",
   "execution_count": 258,
   "id": "8545d0f8",
   "metadata": {},
   "outputs": [
    {
     "data": {
      "text/plain": [
       "[['THE', 'the', 3],\n",
       " ['QUICK', 'quick', 5],\n",
       " ['BROWN', 'brown', 5],\n",
       " ['FOX', 'fox', 3],\n",
       " ['JUMPS', 'jumps', 5],\n",
       " ['OVER', 'over', 4],\n",
       " ['THE', 'the', 3],\n",
       " ['LAZY', 'lazy', 4],\n",
       " ['DOG', 'dog', 3]]"
      ]
     },
     "execution_count": 258,
     "metadata": {},
     "output_type": "execute_result"
    }
   ],
   "source": [
    "m=[a,b,c]\n",
    "d=[[m[i][j] for i in range(0,len(m)) ]for j in range (0,len(a))]\n",
    "d"
   ]
  },
  {
   "cell_type": "markdown",
   "id": "93e6f359",
   "metadata": {},
   "source": [
    "e ) the list of words in list words containing 4 or more\n",
    "characters."
   ]
  },
  {
   "cell_type": "code",
   "execution_count": 259,
   "id": "e8a4c7bf",
   "metadata": {},
   "outputs": [
    {
     "data": {
      "text/plain": [
       "['quick', 'brown', 'jumps', 'over', 'lazy']"
      ]
     },
     "execution_count": 259,
     "metadata": {},
     "output_type": "execute_result"
    }
   ],
   "source": [
    "e=[x for x in words if len(x)>=4]\n",
    "e"
   ]
  },
  {
   "cell_type": "code",
   "execution_count": null,
   "id": "16948a07",
   "metadata": {},
   "outputs": [],
   "source": []
  }
 ],
 "metadata": {
  "kernelspec": {
   "display_name": "Python 3",
   "language": "python",
   "name": "python3"
  },
  "language_info": {
   "codemirror_mode": {
    "name": "ipython",
    "version": 3
   },
   "file_extension": ".py",
   "mimetype": "text/x-python",
   "name": "python",
   "nbconvert_exporter": "python",
   "pygments_lexer": "ipython3",
   "version": "3.8.8"
  }
 },
 "nbformat": 4,
 "nbformat_minor": 5
}
